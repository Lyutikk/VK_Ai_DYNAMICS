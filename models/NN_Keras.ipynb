{
  "nbformat": 4,
  "nbformat_minor": 0,
  "metadata": {
    "colab": {
      "provenance": []
    },
    "kernelspec": {
      "name": "python3",
      "display_name": "Python 3"
    },
    "language_info": {
      "name": "python"
    }
  },
  "cells": [
    {
      "cell_type": "code",
      "execution_count": null,
      "metadata": {
        "id": "5t3tWXCmK5Fy"
      },
      "outputs": [],
      "source": [
        "import pandas as pd\n",
        "import numpy as np\n",
        "from sklearn.model_selection import train_test_split\n",
        "from sklearn.metrics import mean_squared_error\n",
        "from tensorflow.keras.models import Sequential\n",
        "from tensorflow.keras.layers import Dense\n",
        "#from math import sqrt"
      ]
    },
    {
      "cell_type": "code",
      "source": [
        "# Загрузка данных из файла CSV\n",
        "data = pd.read_csv('rich_test_1M_7.csv')"
      ],
      "metadata": {
        "id": "OGzkTBuXW5cv"
      },
      "execution_count": null,
      "outputs": []
    },
    {
      "cell_type": "code",
      "source": [
        "# Разделение данных на признаки (X) и целевую переменную (y)\n",
        "X = data.drop(columns=['x1'])  # Исключаем целевую переменную x1\n",
        "y = data['x1']"
      ],
      "metadata": {
        "id": "3w23_LDYWyTP"
      },
      "execution_count": null,
      "outputs": []
    },
    {
      "cell_type": "code",
      "source": [
        "# Разделение данных на тренировочный и тестовый наборы\n",
        "X_train, X_test, y_train, y_test = train_test_split(X, y, test_size=0.2, random_state=42)\n",
        "\n",
        "# Заполнение пропущенных значений в тренировочном наборе\n",
        "X_train = X_train.fillna(X_train.mean())\n",
        "y_train = y_train.fillna(y_train.mean())\n",
        "\n",
        "# Заполнение пропущенных значений в экзаменационном наборе\n",
        "X_test = X_test.fillna(X_test.mean())\n",
        "y_test = y_test.fillna(y_test.mean())"
      ],
      "metadata": {
        "id": "e0r2AgD7WodO"
      },
      "execution_count": null,
      "outputs": []
    },
    {
      "cell_type": "code",
      "source": [
        "# Создание модели нейронной сети\n",
        "model = Sequential()\n",
        "model.add(Dense(10, input_dim=20, activation='relu'))  # Скрытый слой с 10 нейронами\n",
        "model.add(Dense(1, activation='linear'))  # Выходной слой с 1 нейроном"
      ],
      "metadata": {
        "id": "G82US5NtWkDl"
      },
      "execution_count": null,
      "outputs": []
    },
    {
      "cell_type": "code",
      "source": [
        "# Компиляция модели\n",
        "model.compile(loss='mean_squared_error', optimizer='adam')"
      ],
      "metadata": {
        "id": "bmpnZeVhWfOR"
      },
      "execution_count": null,
      "outputs": []
    },
    {
      "cell_type": "code",
      "source": [
        "%%time\n",
        "# Обучение модели\n",
        "model.fit(X_train, y_train, epochs=25, batch_size=32)"
      ],
      "metadata": {
        "colab": {
          "base_uri": "https://localhost:8080/"
        },
        "id": "s7J85Y3dWZsB",
        "outputId": "1634591d-beb7-48cc-ccfc-e440261af4ba"
      },
      "execution_count": null,
      "outputs": [
        {
          "output_type": "stream",
          "name": "stdout",
          "text": [
            "Epoch 1/25\n",
            "21418/21418 [==============================] - 39s 2ms/step - loss: nan\n",
            "Epoch 2/25\n",
            "21418/21418 [==============================] - 39s 2ms/step - loss: nan\n",
            "Epoch 3/25\n",
            "21418/21418 [==============================] - 38s 2ms/step - loss: nan\n",
            "Epoch 4/25\n",
            "21418/21418 [==============================] - 39s 2ms/step - loss: nan\n",
            "Epoch 5/25\n",
            "21418/21418 [==============================] - 39s 2ms/step - loss: nan\n",
            "Epoch 6/25\n",
            "21418/21418 [==============================] - 38s 2ms/step - loss: nan\n",
            "Epoch 7/25\n",
            "21418/21418 [==============================] - 38s 2ms/step - loss: nan\n",
            "Epoch 8/25\n",
            "21418/21418 [==============================] - 38s 2ms/step - loss: nan\n",
            "Epoch 9/25\n",
            "21418/21418 [==============================] - 39s 2ms/step - loss: nan\n",
            "Epoch 10/25\n",
            "21418/21418 [==============================] - 40s 2ms/step - loss: nan\n",
            "Epoch 11/25\n",
            "21418/21418 [==============================] - 39s 2ms/step - loss: nan\n",
            "Epoch 12/25\n",
            "21418/21418 [==============================] - 40s 2ms/step - loss: nan\n",
            "Epoch 13/25\n",
            "21418/21418 [==============================] - 39s 2ms/step - loss: nan\n",
            "Epoch 14/25\n",
            "21418/21418 [==============================] - 39s 2ms/step - loss: nan\n",
            "Epoch 15/25\n",
            "21418/21418 [==============================] - 39s 2ms/step - loss: nan\n",
            "Epoch 16/25\n",
            "21418/21418 [==============================] - 50s 2ms/step - loss: nan\n",
            "Epoch 17/25\n",
            "21418/21418 [==============================] - 39s 2ms/step - loss: nan\n",
            "Epoch 18/25\n",
            "21418/21418 [==============================] - 43s 2ms/step - loss: nan\n",
            "Epoch 19/25\n",
            "21418/21418 [==============================] - 40s 2ms/step - loss: nan\n",
            "Epoch 20/25\n",
            "21418/21418 [==============================] - 40s 2ms/step - loss: nan\n",
            "Epoch 21/25\n",
            "21418/21418 [==============================] - 39s 2ms/step - loss: nan\n",
            "Epoch 22/25\n",
            "21418/21418 [==============================] - 39s 2ms/step - loss: nan\n",
            "Epoch 23/25\n",
            "21418/21418 [==============================] - 39s 2ms/step - loss: nan\n",
            "Epoch 24/25\n",
            "21418/21418 [==============================] - 39s 2ms/step - loss: nan\n",
            "Epoch 25/25\n",
            "21418/21418 [==============================] - 41s 2ms/step - loss: nan\n",
            "CPU times: user 16min 35s, sys: 44.9 s, total: 17min 20s\n",
            "Wall time: 17min 22s\n"
          ]
        },
        {
          "output_type": "execute_result",
          "data": {
            "text/plain": [
              "<keras.callbacks.History at 0x7f51e2459300>"
            ]
          },
          "metadata": {},
          "execution_count": 62
        }
      ]
    },
    {
      "cell_type": "code",
      "source": [
        "# Получаем целевые значения на тестовом наборе\n",
        "y_test_pred = model.predict(X_test)"
      ],
      "metadata": {
        "colab": {
          "base_uri": "https://localhost:8080/"
        },
        "id": "Q9udzYuJq_y-",
        "outputId": "5d13edd2-3c08-4aac-aa5f-7060176943e8"
      },
      "execution_count": null,
      "outputs": [
        {
          "output_type": "stream",
          "name": "stdout",
          "text": [
            "5355/5355 [==============================] - 8s 1ms/step\n"
          ]
        }
      ]
    },
    {
      "cell_type": "code",
      "source": [
        "# Заменить пропущенные значения на нули\n",
        "y_test_pred = np.nan_to_num(y_test_pred)\n",
        "\n",
        "# Вычислить среднее значение y_test_pred\n",
        "mean_value = np.nanmean(y_test_pred)\n",
        "\n",
        "print (mean_value)\n",
        "\n",
        "# Заменить пустые значения в y_test_pred на среднее значение\n",
        "y_test_pred[np.isnan(y_test_pred)] = mean_value"
      ],
      "metadata": {
        "colab": {
          "base_uri": "https://localhost:8080/"
        },
        "id": "MoTl9pU11077",
        "outputId": "c6cb48f5-4771-4e41-8fa7-dd74aff81c52"
      },
      "execution_count": null,
      "outputs": [
        {
          "output_type": "stream",
          "name": "stdout",
          "text": [
            "0.0\n"
          ]
        }
      ]
    },
    {
      "cell_type": "code",
      "source": [
        "%%time\n",
        "# Оценка точности на тестовом наборе\n",
        "\n",
        "def RMSE(y_true, y_pred):\n",
        "    return mean_squared_error(y_true, y_pred, squared=False)\n",
        "print ('RMSE=', RMSE(y_test, y_test_pred))"
      ],
      "metadata": {
        "colab": {
          "base_uri": "https://localhost:8080/"
        },
        "id": "BW3JaONtpkQ2",
        "outputId": "1785d2b9-f5c2-4426-e8f7-6ffa14c5ea6b"
      },
      "execution_count": null,
      "outputs": [
        {
          "output_type": "stream",
          "name": "stdout",
          "text": [
            "RMSE= 1.512068088630504\n",
            "CPU times: user 4.4 ms, sys: 0 ns, total: 4.4 ms\n",
            "Wall time: 4.32 ms\n"
          ]
        }
      ]
    },
    {
      "cell_type": "code",
      "source": [
        "# Создание submission.csv с предсказаниями на экзаменационном наборе\n",
        "submission = pd.DataFrame({'x1_pred': y_test_pred.flatten()})\n",
        "submission.to_csv('submission.csv', index=False)"
      ],
      "metadata": {
        "id": "pb7rYah-V_eB"
      },
      "execution_count": null,
      "outputs": []
    }
  ]
}